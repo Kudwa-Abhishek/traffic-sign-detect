{
 "cells": [
  {
   "cell_type": "code",
   "execution_count": 1,
   "metadata": {
    "id": "Yixl3xwEQpCv"
   },
   "outputs": [],
   "source": [
    "import numpy as np\n",
    "import os\n",
    "from skimage.feature import hog\n",
    "import cv2\n",
    "import matplotlib.pyplot as plt\n",
    "from sklearn.linear_model import LogisticRegression\n",
    "import pandas as pd\n",
    "from sklearn.svm import SVC"
   ]
  },
  {
   "cell_type": "code",
   "execution_count": 2,
   "metadata": {
    "id": "oyIIMehFMOAC"
   },
   "outputs": [],
   "source": [
    "train_dir = r'ocr_data/train/'\n",
    "labels_list = [i for i in os.listdir(train_dir)]\n",
    "pathimg = [os.listdir(train_dir + i) for i in labels_list]"
   ]
  },
  {
   "cell_type": "code",
   "execution_count": 3,
   "metadata": {
    "id": "8384JK0oTnyt"
   },
   "outputs": [],
   "source": [
    "# hog for each image and store it in a list with its corresponding label\n",
    "features = []\n",
    "labels = []\n",
    "for i,j in enumerate(zip(pathimg,labels_list)):\n",
    "  imgs,label = j\n",
    "  for img in imgs:\n",
    "      img = cv2.imread(train_dir+label+'/'+img)\n",
    "      img_res=cv2.resize(img,(64,128),interpolation=cv2.INTER_AREA)\n",
    "      img_gray= cv2.cvtColor(img_res,cv2.COLOR_BGR2GRAY)\n",
    "      hog_img= hog(img_gray,orientations=9,pixels_per_cell=(8,8), cells_per_block=(1, 1))\n",
    "      features.append(hog_img)\n",
    "      labels.append(label)"
   ]
  },
  {
   "cell_type": "code",
   "execution_count": 4,
   "metadata": {
    "colab": {
     "base_uri": "https://localhost:8080/",
     "height": 439
    },
    "id": "sp0K1rJmQhCN",
    "outputId": "082b55b8-258b-4d87-a04b-b3d35b829141"
   },
   "outputs": [],
   "source": [
    "df = pd.DataFrame(np.array(features))\n",
    "df['target'] = labels"
   ]
  },
  {
   "cell_type": "markdown",
   "metadata": {
    "id": "BSgKkwmPE8bq"
   },
   "source": [
    "#Training"
   ]
  },
  {
   "cell_type": "code",
   "execution_count": 5,
   "metadata": {
    "id": "rTC5dMXY2qIV"
   },
   "outputs": [],
   "source": [
    "x = np.array(df.iloc[:,:-1])\n",
    "y = np.array(df['target'])"
   ]
  },
  {
   "cell_type": "code",
   "execution_count": 6,
   "metadata": {
    "colab": {
     "base_uri": "https://localhost:8080/"
    },
    "id": "yZ1KyIJRuikH",
    "outputId": "4c57930e-8235-40c2-fa1f-ec4132c288c5"
   },
   "outputs": [
    {
     "name": "stderr",
     "output_type": "stream",
     "text": [
      "C:\\Users\\ashuk\\anaconda3\\lib\\site-packages\\sklearn\\linear_model\\_logistic.py:814: ConvergenceWarning: lbfgs failed to converge (status=1):\n",
      "STOP: TOTAL NO. of ITERATIONS REACHED LIMIT.\n",
      "\n",
      "Increase the number of iterations (max_iter) or scale the data as shown in:\n",
      "    https://scikit-learn.org/stable/modules/preprocessing.html\n",
      "Please also refer to the documentation for alternative solver options:\n",
      "    https://scikit-learn.org/stable/modules/linear_model.html#logistic-regression\n",
      "  n_iter_i = _check_optimize_result(\n"
     ]
    }
   ],
   "source": [
    "model = LogisticRegression()\n",
    "lreg=model.fit(x, y)"
   ]
  },
  {
   "cell_type": "markdown",
   "metadata": {
    "id": "bZVAGNXkEd1m"
   },
   "source": [
    "#Testing"
   ]
  },
  {
   "cell_type": "code",
   "execution_count": 8,
   "metadata": {
    "id": "Qovp_SmlJaQX"
   },
   "outputs": [
    {
     "name": "stdout",
     "output_type": "stream",
     "text": [
      "DET0UR\n",
      "EAS7\n",
      "N0FARKUNG\n",
      "UEST\n",
      "STMP\n",
      "CST0BJ\n",
      "ST0PJ\n",
      "0NEUAY\n"
     ]
    }
   ],
   "source": [
    "test_dir = r'ocr_data/test/'\n",
    "\n",
    "image_files = [f for f in os.listdir(test_dir) if f.endswith(('.jpg', '.jpeg', '.png'))]\n",
    "\n",
    "for image_file in image_files:\n",
    "    image_path = os.path.join(test_dir, image_file)\n",
    "    im = cv2.imread(image_path)\n",
    "    im_gray = cv2.cvtColor(im, cv2.COLOR_BGR2GRAY)\n",
    "    im_gray = cv2.resize(im_gray, (400,240))\n",
    "    # Threshold \n",
    "    ret, im_th = cv2.threshold(im_gray, 120, 255, cv2.THRESH_BINARY_INV+cv2.THRESH_OTSU)\n",
    "\n",
    "    # contours \n",
    "    ctrs,hier = cv2.findContours(im_th, cv2.RETR_TREE,\n",
    "                                 cv2.CHAIN_APPROX_SIMPLE)\n",
    "\n",
    "    boxs=[cv2.boundingRect(c) for c in ctrs]\n",
    "    sorted_boxs = sorted(boxs,key=lambda b:b[0])\n",
    "\n",
    "    letters=[]\n",
    "    for num,i_boxs in enumerate(sorted_boxs):\n",
    "        [x,y,w,h]=i_boxs\n",
    "        if h>100 and w < 100:\n",
    "            r=im_gray[y:y+h,x:x+w]\n",
    "            r = cv2.resize(r, (64, 128), interpolation=cv2.INTER_AREA)\n",
    "            hog_fd = hog(r, orientations=9, pixels_per_cell=(8, 8),\n",
    "                             cells_per_block=(1, 1))\n",
    "            prediction = lreg.predict(np.array([hog_fd]))\n",
    "            letters.append(str(prediction[0]))\n",
    "\n",
    "    print(''.join(letters))\n",
    "\n"
   ]
  },
  {
   "cell_type": "code",
   "execution_count": null,
   "metadata": {},
   "outputs": [],
   "source": []
  },
  {
   "cell_type": "code",
   "execution_count": null,
   "metadata": {},
   "outputs": [],
   "source": []
  }
 ],
 "metadata": {
  "colab": {
   "collapsed_sections": [],
   "name": "OCR HOG+LREG.ipynb",
   "provenance": [],
   "toc_visible": true
  },
  "kernelspec": {
   "display_name": "Python 3 (ipykernel)",
   "language": "python",
   "name": "python3"
  },
  "language_info": {
   "codemirror_mode": {
    "name": "ipython",
    "version": 3
   },
   "file_extension": ".py",
   "mimetype": "text/x-python",
   "name": "python",
   "nbconvert_exporter": "python",
   "pygments_lexer": "ipython3",
   "version": "3.9.13"
  }
 },
 "nbformat": 4,
 "nbformat_minor": 1
}
